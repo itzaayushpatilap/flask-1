{
 "cells": [
  {
   "cell_type": "raw",
   "id": "79391d25-1c28-495b-8504-5ac41f9ac3a7",
   "metadata": {},
   "source": [
    "Q1. Explain GET and POST methods."
   ]
  },
  {
   "cell_type": "raw",
   "id": "e2eb841b-62be-471e-9a27-597a4387d94e",
   "metadata": {},
   "source": [
    "HTTP GET\n",
    "\n",
    "HTTP POST\n",
    "\n",
    "In GET method we can not send large amount of data rather limited data is sent because the request parameter is appended into the URL. \tIn POST method large amount of data can be sent because the request parameter is appended into the body.\n",
    "GET request is comparatively better than Post so it is used more than the\n",
    "\n",
    "Post request.\n",
    "\n",
    "POST request is comparatively less better than Get so it is used less than the Get request.\n",
    "GET request is comparatively less secure because the data is exposed in the URL bar.\tPOST request is comparatively more secure because the data is"
   ]
  },
  {
   "cell_type": "raw",
   "id": "8146401f-eb3f-411c-a23e-691677d53c71",
   "metadata": {},
   "source": [
    "Q2. Why is request used in Flask?"
   ]
  },
  {
   "cell_type": "raw",
   "id": "9881aae8-01f2-4241-9b83-090d00557f8b",
   "metadata": {},
   "source": [
    "The Request, in Flask, is an object that contains all the data sent from the Client to Server. This data can be recovered using the GET/POST Methods. POST is used when your application expects user input to be received by command or an HTTP request, while GET gets all the information before it even has a chance for submission."
   ]
  },
  {
   "cell_type": "raw",
   "id": "b98ea597-49bb-46f6-906d-b8f482d18919",
   "metadata": {},
   "source": [
    "Q3. Why is redirect() used in Flask?"
   ]
  },
  {
   "cell_type": "raw",
   "id": "883d9cbc-be4e-471a-9aae-2727fccbcce1",
   "metadata": {},
   "source": [
    "ans- Flask redirect is defined as a function or utility in Flask which allows developers to redirect users to a specified URL and assign a specified status code. When this function is called, a response object is returned, and the redirection happens to the target location with the status code.\n",
    "\n",
    "The redirect function is very useful in Flask because it allows you to tell your app which URL it should go to when a certain action is performed by an end-user. Redirects are also useful for managing URLs in your application."
   ]
  },
  {
   "cell_type": "raw",
   "id": "48bcaa47-9a9b-4a59-a546-faa70d5c0e95",
   "metadata": {},
   "source": [
    "Q4. What are templates in Flask? Why is the render_template() function used?"
   ]
  },
  {
   "cell_type": "raw",
   "id": "e725b3c4-b094-4354-ae4c-860d393f664f",
   "metadata": {},
   "source": [
    "ans-A flask template is a template of a webpage that can be used by web developers to reduce the hectic work of writing the code for each webpage of a website. For example, web developers can create a template that has headers like a navbar and footer which is the same for all web pages. so instead of writing code for the header and footer of every webpage, we can use that template.    \n",
    "\n",
    "The render_template() method, allows us to fetch the HTML files, and, pass them to the browser. Hence, instead of rendering, raw string or inline HTML code, from the backend code to the browser, we can have a separate HTML file, passed to the client. The steps followed, to use the same, are as follows.\n",
    "\n",
    "\n",
    "\n"
   ]
  },
  {
   "cell_type": "raw",
   "id": "ae51face-e249-4553-8042-401e1f286aee",
   "metadata": {},
   "source": [
    "Q5. Create a simple API. Use Postman to test it. Attach the screenshot of the output in the Jupyter Notebook."
   ]
  }
 ],
 "metadata": {
  "kernelspec": {
   "display_name": "Python 3 (ipykernel)",
   "language": "python",
   "name": "python3"
  },
  "language_info": {
   "codemirror_mode": {
    "name": "ipython",
    "version": 3
   },
   "file_extension": ".py",
   "mimetype": "text/x-python",
   "name": "python",
   "nbconvert_exporter": "python",
   "pygments_lexer": "ipython3",
   "version": "3.10.8"
  }
 },
 "nbformat": 4,
 "nbformat_minor": 5
}
